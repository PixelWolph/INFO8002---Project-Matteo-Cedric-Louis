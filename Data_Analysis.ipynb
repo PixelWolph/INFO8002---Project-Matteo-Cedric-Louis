{
 "cells": [
  {
   "cell_type": "markdown",
   "source": [
    "## Dataset information ([Source](https://developer.imdb.com/non-commercial-datasets/))\n",
    "# title.akas.tsv\n",
    "- titleId (string) - a tconst, an alphanumeric unique identifier of the title\n",
    "- ordering (integer) – a number to uniquely identify rows for a given titleId\n",
    "- title (string) – the localized title\n",
    "- region (string) - the region for this version of the title\n",
    "- language (string) - the language of the title\n",
    "- types (array) - Enumerated set of attributes for this alternative title. One or more of the following: \"alternative\", \"dvd\", \"festival\", \"tv\", \"video\", \"working\", \"original\", \"imdbDisplay\". New values may be added in the future without warning\n",
    "- attributes (array) - Additional terms to describe this alternative title, not enumerated\n",
    "- isOriginalTitle (boolean) – 0: not original title; 1: original title\n",
    "\n",
    "# title.basics.tsv\n",
    "- tconst (string) - alphanumeric unique identifier of the title\n",
    "- titleType (string) – the type/format of the title (e.g. movie, short, tvseries, tvepisode, video, etc)\n",
    "- primaryTitle (string) – the more popular title / the title used by the filmmakers on promotional materials at the point of release\n",
    "- originalTitle (string) - original title, in the original language\n",
    "- isAdult (boolean) - 0: non-adult title; 1: adult title\n",
    "- startYear (YYYY) – represents the release year of a title. In the case of TV Series, it is the series start year\n",
    "- endYear (YYYY) – TV Series end year. ‘\\N’ for all other title types\n",
    "- runtimeMinutes – primary runtime of the title, in minutes\n",
    "- genres (string array) – includes up to three genres associated with the title\n",
    "\n",
    "# title.crew.tsv\n",
    "- tconst (string) - alphanumeric unique identifier of the title\n",
    "- directors (array of nconsts) - director(s) of the given title\n",
    "- writers (array of nconsts) – writer(s) of the given title\n",
    "\n",
    "# title.episode.tsv\n",
    "- tconst (string) - alphanumeric identifier of episode\n",
    "- parentTconst (string) - alphanumeric identifier of the parent TV Series\n",
    "- seasonNumber (integer) – season number the episode belongs to\n",
    "- episodeNumber (integer) – episode number of the tconst in the TV series\n",
    "\n",
    "# title.principals.tsv\n",
    "- tconst (string) - alphanumeric unique identifier of the title\n",
    "- ordering (integer) – a number to uniquely identify rows for a given titleId\n",
    "- nconst (string) - alphanumeric unique identifier of the name/person\n",
    "- category (string) - the category of job that person was in\n",
    "- job (string) - the specific job title if applicable, else '\\N'\n",
    "- characters (string) - the name of the character played if applicable, else '\\N'\n",
    "\n",
    "# title.ratings.tsv\n",
    "- tconst (string) - alphanumeric unique identifier of the title\n",
    "- averageRating – weighted average of all the individual user ratings\n",
    "- numVotes - number of votes the title has received\n",
    "# name.basics.tsv\n",
    "- nconst (string) - alphanumeric unique identifier of the name/person\n",
    "- primaryName (string)– name by which the person is most often credited\n",
    "- birthYear – in YYYY format\n",
    "- deathYear – in YYYY format if applicable, else '\\N'\n",
    "- primaryProfession (array of strings)– the top-3 professions of the person\n",
    "- knownForTitles (array of tconsts) – titles the person is known for"
   ],
   "metadata": {
    "collapsed": false
   }
  },
  {
   "cell_type": "code",
   "execution_count": 1,
   "metadata": {
    "collapsed": true
   },
   "outputs": [],
   "source": [
    "# Import list\n",
    "import pandas as pd"
   ]
  },
  {
   "cell_type": "code",
   "execution_count": 3,
   "outputs": [
    {
     "data": {
      "text/plain": "      tconst  ordering     nconst         category                      job  \\\n0  tt0000001         1  nm1588970             self                       \\N   \n1  tt0000001         2  nm0005690         director                       \\N   \n2  tt0000001         3  nm0005690         producer                 producer   \n3  tt0000001         4  nm0374658  cinematographer  director of photography   \n4  tt0000002         1  nm0721526         director                       \\N   \n\n  characters  \n0   [\"Self\"]  \n1         \\N  \n2         \\N  \n3         \\N  \n4         \\N  ",
      "text/html": "<div>\n<style scoped>\n    .dataframe tbody tr th:only-of-type {\n        vertical-align: middle;\n    }\n\n    .dataframe tbody tr th {\n        vertical-align: top;\n    }\n\n    .dataframe thead th {\n        text-align: right;\n    }\n</style>\n<table border=\"1\" class=\"dataframe\">\n  <thead>\n    <tr style=\"text-align: right;\">\n      <th></th>\n      <th>tconst</th>\n      <th>ordering</th>\n      <th>nconst</th>\n      <th>category</th>\n      <th>job</th>\n      <th>characters</th>\n    </tr>\n  </thead>\n  <tbody>\n    <tr>\n      <th>0</th>\n      <td>tt0000001</td>\n      <td>1</td>\n      <td>nm1588970</td>\n      <td>self</td>\n      <td>\\N</td>\n      <td>[\"Self\"]</td>\n    </tr>\n    <tr>\n      <th>1</th>\n      <td>tt0000001</td>\n      <td>2</td>\n      <td>nm0005690</td>\n      <td>director</td>\n      <td>\\N</td>\n      <td>\\N</td>\n    </tr>\n    <tr>\n      <th>2</th>\n      <td>tt0000001</td>\n      <td>3</td>\n      <td>nm0005690</td>\n      <td>producer</td>\n      <td>producer</td>\n      <td>\\N</td>\n    </tr>\n    <tr>\n      <th>3</th>\n      <td>tt0000001</td>\n      <td>4</td>\n      <td>nm0374658</td>\n      <td>cinematographer</td>\n      <td>director of photography</td>\n      <td>\\N</td>\n    </tr>\n    <tr>\n      <th>4</th>\n      <td>tt0000002</td>\n      <td>1</td>\n      <td>nm0721526</td>\n      <td>director</td>\n      <td>\\N</td>\n      <td>\\N</td>\n    </tr>\n  </tbody>\n</table>\n</div>"
     },
     "execution_count": 3,
     "metadata": {},
     "output_type": "execute_result"
    }
   ],
   "source": [
    "title_principals = pd.read_csv('data/title.principals.tsv', sep='\\t')\n",
    "title_principals.head()"
   ],
   "metadata": {
    "collapsed": false
   }
  },
  {
   "cell_type": "markdown",
   "source": [
    "# Creating a new data set with only the necessary information for the project\n",
    "\n",
    "For challenge A: Degrees of separation between actors we need\n",
    "- Actor names and nconst from name.basics.tsv and filter only actors\n",
    "- From title.principals.tsv we need tconst, nconst for only actor and actress\n",
    "\n",
    "We could also used title.basics.tsv to filter movie from non movie based on the tconst ID but I don't think it is necessary"
   ],
   "metadata": {
    "collapsed": false
   }
  },
  {
   "cell_type": "markdown",
   "source": [],
   "metadata": {
    "collapsed": false
   }
  },
  {
   "cell_type": "code",
   "execution_count": 10,
   "outputs": [],
   "source": [
    "# Loading the datasets into pandas DataFrames\n",
    "base_path = \"data/\"\n",
    "\n",
    "name_basics_df = pd.read_csv(f\"{base_path}name.basics.tsv\", sep='\\t')\n",
    "# title_akas_df = pd.read_csv(f\"{base_path}title.akas.tsv\", sep='\\t')\n",
    "# title_basics_df = pd.read_csv(f\"{base_path}title.basics.tsv\", sep='\\t')\n",
    "# title_crew_df = pd.read_csv(f\"{base_path}title.crew.tsv\", sep='\\t')\n",
    "# title_episode_df = pd.read_csv(f\"{base_path}title.episode.tsv\", sep='\\t')\n",
    "title_principals_df = pd.read_csv(f\"{base_path}title.principals.tsv\", sep='\\t')\n",
    "# title_ratings_df = pd.read_csv(f\"{base_path}title.ratings.tsv\", sep='\\t')"
   ],
   "metadata": {
    "collapsed": false
   }
  },
  {
   "cell_type": "code",
   "execution_count": 13,
   "outputs": [
    {
     "data": {
      "text/plain": "             nconst         primaryName\n0         nm0000001        Fred Astaire\n1         nm0000002       Lauren Bacall\n2         nm0000003     Brigitte Bardot\n3         nm0000004        John Belushi\n4         nm0000005      Ingmar Bergman\n...             ...                 ...\n13378119  nm9993714   Romeo del Rosario\n13378120  nm9993716       Essias Loberg\n13378121  nm9993717  Harikrishnan Rajan\n13378122  nm9993718         Aayush Nair\n13378123  nm9993719          Andre Hill\n\n[13378124 rows x 2 columns]",
      "text/html": "<div>\n<style scoped>\n    .dataframe tbody tr th:only-of-type {\n        vertical-align: middle;\n    }\n\n    .dataframe tbody tr th {\n        vertical-align: top;\n    }\n\n    .dataframe thead th {\n        text-align: right;\n    }\n</style>\n<table border=\"1\" class=\"dataframe\">\n  <thead>\n    <tr style=\"text-align: right;\">\n      <th></th>\n      <th>nconst</th>\n      <th>primaryName</th>\n    </tr>\n  </thead>\n  <tbody>\n    <tr>\n      <th>0</th>\n      <td>nm0000001</td>\n      <td>Fred Astaire</td>\n    </tr>\n    <tr>\n      <th>1</th>\n      <td>nm0000002</td>\n      <td>Lauren Bacall</td>\n    </tr>\n    <tr>\n      <th>2</th>\n      <td>nm0000003</td>\n      <td>Brigitte Bardot</td>\n    </tr>\n    <tr>\n      <th>3</th>\n      <td>nm0000004</td>\n      <td>John Belushi</td>\n    </tr>\n    <tr>\n      <th>4</th>\n      <td>nm0000005</td>\n      <td>Ingmar Bergman</td>\n    </tr>\n    <tr>\n      <th>...</th>\n      <td>...</td>\n      <td>...</td>\n    </tr>\n    <tr>\n      <th>13378119</th>\n      <td>nm9993714</td>\n      <td>Romeo del Rosario</td>\n    </tr>\n    <tr>\n      <th>13378120</th>\n      <td>nm9993716</td>\n      <td>Essias Loberg</td>\n    </tr>\n    <tr>\n      <th>13378121</th>\n      <td>nm9993717</td>\n      <td>Harikrishnan Rajan</td>\n    </tr>\n    <tr>\n      <th>13378122</th>\n      <td>nm9993718</td>\n      <td>Aayush Nair</td>\n    </tr>\n    <tr>\n      <th>13378123</th>\n      <td>nm9993719</td>\n      <td>Andre Hill</td>\n    </tr>\n  </tbody>\n</table>\n<p>13378124 rows × 2 columns</p>\n</div>"
     },
     "execution_count": 13,
     "metadata": {},
     "output_type": "execute_result"
    }
   ],
   "source": [
    "name_basics_df[['nconst', 'primaryName']]"
   ],
   "metadata": {
    "collapsed": false
   }
  },
  {
   "cell_type": "markdown",
   "source": [
    "Challenge A)"
   ],
   "metadata": {
    "collapsed": false
   }
  },
  {
   "cell_type": "code",
   "execution_count": 14,
   "outputs": [
    {
     "data": {
      "text/plain": "             tconst      nconst category        primaryName\n0         tt0000005   nm0443482    actor     Charles Kayser\n1         tt0000005   nm0653042    actor           John Ott\n2         tt0000007   nm0179163    actor   James J. Corbett\n3         tt0003116   nm0179163    actor   James J. Corbett\n4         tt0003730   nm0179163    actor   James J. Corbett\n...             ...         ...      ...                ...\n35503716  tt9916856  nm10538646    actor     Andreas Demmel\n35503717  tt9916856  nm10538647  actress    Kathrin Knöpfle\n35503718  tt9916856  nm10538651  actress  Beatrice Bresolin\n35503719  tt9916856  nm10538648    actor    Amit Goldenberg\n35503720  tt9916856  nm10538652    actor      Adrian Iselin\n\n[35503721 rows x 4 columns]",
      "text/html": "<div>\n<style scoped>\n    .dataframe tbody tr th:only-of-type {\n        vertical-align: middle;\n    }\n\n    .dataframe tbody tr th {\n        vertical-align: top;\n    }\n\n    .dataframe thead th {\n        text-align: right;\n    }\n</style>\n<table border=\"1\" class=\"dataframe\">\n  <thead>\n    <tr style=\"text-align: right;\">\n      <th></th>\n      <th>tconst</th>\n      <th>nconst</th>\n      <th>category</th>\n      <th>primaryName</th>\n    </tr>\n  </thead>\n  <tbody>\n    <tr>\n      <th>0</th>\n      <td>tt0000005</td>\n      <td>nm0443482</td>\n      <td>actor</td>\n      <td>Charles Kayser</td>\n    </tr>\n    <tr>\n      <th>1</th>\n      <td>tt0000005</td>\n      <td>nm0653042</td>\n      <td>actor</td>\n      <td>John Ott</td>\n    </tr>\n    <tr>\n      <th>2</th>\n      <td>tt0000007</td>\n      <td>nm0179163</td>\n      <td>actor</td>\n      <td>James J. Corbett</td>\n    </tr>\n    <tr>\n      <th>3</th>\n      <td>tt0003116</td>\n      <td>nm0179163</td>\n      <td>actor</td>\n      <td>James J. Corbett</td>\n    </tr>\n    <tr>\n      <th>4</th>\n      <td>tt0003730</td>\n      <td>nm0179163</td>\n      <td>actor</td>\n      <td>James J. Corbett</td>\n    </tr>\n    <tr>\n      <th>...</th>\n      <td>...</td>\n      <td>...</td>\n      <td>...</td>\n      <td>...</td>\n    </tr>\n    <tr>\n      <th>35503716</th>\n      <td>tt9916856</td>\n      <td>nm10538646</td>\n      <td>actor</td>\n      <td>Andreas Demmel</td>\n    </tr>\n    <tr>\n      <th>35503717</th>\n      <td>tt9916856</td>\n      <td>nm10538647</td>\n      <td>actress</td>\n      <td>Kathrin Knöpfle</td>\n    </tr>\n    <tr>\n      <th>35503718</th>\n      <td>tt9916856</td>\n      <td>nm10538651</td>\n      <td>actress</td>\n      <td>Beatrice Bresolin</td>\n    </tr>\n    <tr>\n      <th>35503719</th>\n      <td>tt9916856</td>\n      <td>nm10538648</td>\n      <td>actor</td>\n      <td>Amit Goldenberg</td>\n    </tr>\n    <tr>\n      <th>35503720</th>\n      <td>tt9916856</td>\n      <td>nm10538652</td>\n      <td>actor</td>\n      <td>Adrian Iselin</td>\n    </tr>\n  </tbody>\n</table>\n<p>35503721 rows × 4 columns</p>\n</div>"
     },
     "execution_count": 14,
     "metadata": {},
     "output_type": "execute_result"
    }
   ],
   "source": [
    "actors_only_df = title_principals_df[title_principals_df['category'].isin(['actor', 'actress'])][['tconst', 'nconst', 'category']]\n",
    "nconst_name_mapping_df = name_basics_df[['nconst', 'primaryName']]\n",
    "challenge_A_df = pd.merge(actors_only_df, nconst_name_mapping_df, on='nconst', how='inner')\n",
    "challenge_A_df\n",
    "#we can save that DF and used it for the project"
   ],
   "metadata": {
    "collapsed": false
   }
  }
 ],
 "metadata": {
  "kernelspec": {
   "display_name": "Python 3",
   "language": "python",
   "name": "python3"
  },
  "language_info": {
   "codemirror_mode": {
    "name": "ipython",
    "version": 2
   },
   "file_extension": ".py",
   "mimetype": "text/x-python",
   "name": "python",
   "nbconvert_exporter": "python",
   "pygments_lexer": "ipython2",
   "version": "2.7.6"
  }
 },
 "nbformat": 4,
 "nbformat_minor": 0
}
