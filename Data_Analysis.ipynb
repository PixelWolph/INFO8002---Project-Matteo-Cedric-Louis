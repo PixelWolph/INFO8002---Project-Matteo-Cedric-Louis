{
 "cells": [
  {
   "cell_type": "markdown",
   "source": [
    "## Dataset information ([Source](https://developer.imdb.com/non-commercial-datasets/))\n",
    "# title.akas.tsv\n",
    "- titleId (string) - a tconst, an alphanumeric unique identifier of the title\n",
    "- ordering (integer) – a number to uniquely identify rows for a given titleId\n",
    "- title (string) – the localized title\n",
    "- region (string) - the region for this version of the title\n",
    "- language (string) - the language of the title\n",
    "- types (array) - Enumerated set of attributes for this alternative title. One or more of the following: \"alternative\", \"dvd\", \"festival\", \"tv\", \"video\", \"working\", \"original\", \"imdbDisplay\". New values may be added in the future without warning\n",
    "- attributes (array) - Additional terms to describe this alternative title, not enumerated\n",
    "- isOriginalTitle (boolean) – 0: not original title; 1: original title\n",
    "\n",
    "# title.basics.tsv\n",
    "- tconst (string) - alphanumeric unique identifier of the title\n",
    "- titleType (string) – the type/format of the title (e.g. movie, short, tvseries, tvepisode, video, etc)\n",
    "- primaryTitle (string) – the more popular title / the title used by the filmmakers on promotional materials at the point of release\n",
    "- originalTitle (string) - original title, in the original language\n",
    "- isAdult (boolean) - 0: non-adult title; 1: adult title\n",
    "- startYear (YYYY) – represents the release year of a title. In the case of TV Series, it is the series start year\n",
    "- endYear (YYYY) – TV Series end year. ‘\\N’ for all other title types\n",
    "- runtimeMinutes – primary runtime of the title, in minutes\n",
    "- genres (string array) – includes up to three genres associated with the title\n",
    "\n",
    "# title.crew.tsv\n",
    "- tconst (string) - alphanumeric unique identifier of the title\n",
    "- directors (array of nconsts) - director(s) of the given title\n",
    "- writers (array of nconsts) – writer(s) of the given title\n",
    "\n",
    "# title.episode.tsv\n",
    "- tconst (string) - alphanumeric identifier of episode\n",
    "- parentTconst (string) - alphanumeric identifier of the parent TV Series\n",
    "- seasonNumber (integer) – season number the episode belongs to\n",
    "- episodeNumber (integer) – episode number of the tconst in the TV series\n",
    "\n",
    "# title.principals.tsv\n",
    "- tconst (string) - alphanumeric unique identifier of the title\n",
    "- ordering (integer) – a number to uniquely identify rows for a given titleId\n",
    "- nconst (string) - alphanumeric unique identifier of the name/person\n",
    "- category (string) - the category of job that person was in\n",
    "- job (string) - the specific job title if applicable, else '\\N'\n",
    "- characters (string) - the name of the character played if applicable, else '\\N'\n",
    "\n",
    "# title.ratings.tsv\n",
    "- tconst (string) - alphanumeric unique identifier of the title\n",
    "- averageRating – weighted average of all the individual user ratings\n",
    "- numVotes - number of votes the title has received\n",
    "# name.basics.tsv\n",
    "- nconst (string) - alphanumeric unique identifier of the name/person\n",
    "- primaryName (string)– name by which the person is most often credited\n",
    "- birthYear – in YYYY format\n",
    "- deathYear – in YYYY format if applicable, else '\\N'\n",
    "- primaryProfession (array of strings)– the top-3 professions of the person\n",
    "- knownForTitles (array of tconsts) – titles the person is known for"
   ],
   "metadata": {
    "collapsed": false
   }
  },
  {
   "cell_type": "code",
   "execution_count": 1,
   "metadata": {
    "collapsed": true
   },
   "outputs": [],
   "source": [
    "# Import list\n",
    "import pandas as pd\n",
    "import time\n",
    "# Loading the datasets into pandas DataFrames\n",
    "base_path = \"data/\""
   ]
  },
  {
   "cell_type": "code",
   "execution_count": 2,
   "outputs": [
    {
     "data": {
      "text/plain": "      tconst  ordering     nconst         category                      job  \\\n0  tt0000001         1  nm1588970             self                       \\N   \n1  tt0000001         2  nm0005690         director                       \\N   \n2  tt0000001         3  nm0005690         producer                 producer   \n3  tt0000001         4  nm0374658  cinematographer  director of photography   \n4  tt0000002         1  nm0721526         director                       \\N   \n\n  characters  \n0   [\"Self\"]  \n1         \\N  \n2         \\N  \n3         \\N  \n4         \\N  ",
      "text/html": "<div>\n<style scoped>\n    .dataframe tbody tr th:only-of-type {\n        vertical-align: middle;\n    }\n\n    .dataframe tbody tr th {\n        vertical-align: top;\n    }\n\n    .dataframe thead th {\n        text-align: right;\n    }\n</style>\n<table border=\"1\" class=\"dataframe\">\n  <thead>\n    <tr style=\"text-align: right;\">\n      <th></th>\n      <th>tconst</th>\n      <th>ordering</th>\n      <th>nconst</th>\n      <th>category</th>\n      <th>job</th>\n      <th>characters</th>\n    </tr>\n  </thead>\n  <tbody>\n    <tr>\n      <th>0</th>\n      <td>tt0000001</td>\n      <td>1</td>\n      <td>nm1588970</td>\n      <td>self</td>\n      <td>\\N</td>\n      <td>[\"Self\"]</td>\n    </tr>\n    <tr>\n      <th>1</th>\n      <td>tt0000001</td>\n      <td>2</td>\n      <td>nm0005690</td>\n      <td>director</td>\n      <td>\\N</td>\n      <td>\\N</td>\n    </tr>\n    <tr>\n      <th>2</th>\n      <td>tt0000001</td>\n      <td>3</td>\n      <td>nm0005690</td>\n      <td>producer</td>\n      <td>producer</td>\n      <td>\\N</td>\n    </tr>\n    <tr>\n      <th>3</th>\n      <td>tt0000001</td>\n      <td>4</td>\n      <td>nm0374658</td>\n      <td>cinematographer</td>\n      <td>director of photography</td>\n      <td>\\N</td>\n    </tr>\n    <tr>\n      <th>4</th>\n      <td>tt0000002</td>\n      <td>1</td>\n      <td>nm0721526</td>\n      <td>director</td>\n      <td>\\N</td>\n      <td>\\N</td>\n    </tr>\n  </tbody>\n</table>\n</div>"
     },
     "execution_count": 2,
     "metadata": {},
     "output_type": "execute_result"
    }
   ],
   "source": [
    "title_principals = pd.read_csv('data/title.principals.tsv', sep='\\t')\n",
    "title_principals.head()"
   ],
   "metadata": {
    "collapsed": false
   }
  },
  {
   "cell_type": "markdown",
   "source": [
    "# Challenge A\n",
    "\n",
    "For challenge A (Degrees of separation between actors), we need :\n",
    "- Actor names and nconst from name.basics.tsv and filter only actor/actress\n",
    "- From title.principals.tsv we need tconst, nconst for only actor/actress\n",
    "\n",
    "We could also used title.basics.tsv to filter movie from non movie based on the tconst ID but I don't think it is necessary"
   ],
   "metadata": {
    "collapsed": false
   }
  },
  {
   "cell_type": "markdown",
   "source": [],
   "metadata": {
    "collapsed": false
   }
  },
  {
   "cell_type": "code",
   "execution_count": 15,
   "outputs": [
    {
     "name": "stdout",
     "output_type": "stream",
     "text": [
      "Total time to load data : 110.52546501159668 seconds\n"
     ]
    }
   ],
   "source": [
    "# Start the timer\n",
    "start_time = time.time()\n",
    "\n",
    "name_basics_df = pd.read_csv(f\"{base_path}name.basics.tsv\", sep='\\t')\n",
    "title_principals_df = pd.read_csv(f\"{base_path}title.principals.tsv\", sep='\\t')\n",
    "\n",
    "# End the timer\n",
    "end_time = time.time()\n",
    "# Calculate and print the total time taken\n",
    "total_time = end_time - start_time\n",
    "print(f\"Total time to load data : {total_time} seconds\")"
   ],
   "metadata": {
    "collapsed": false
   }
  },
  {
   "cell_type": "code",
   "execution_count": 4,
   "outputs": [
    {
     "data": {
      "text/plain": "      nconst      primaryName\n0  nm0000001     Fred Astaire\n1  nm0000002    Lauren Bacall\n2  nm0000003  Brigitte Bardot\n3  nm0000004     John Belushi\n4  nm0000005   Ingmar Bergman",
      "text/html": "<div>\n<style scoped>\n    .dataframe tbody tr th:only-of-type {\n        vertical-align: middle;\n    }\n\n    .dataframe tbody tr th {\n        vertical-align: top;\n    }\n\n    .dataframe thead th {\n        text-align: right;\n    }\n</style>\n<table border=\"1\" class=\"dataframe\">\n  <thead>\n    <tr style=\"text-align: right;\">\n      <th></th>\n      <th>nconst</th>\n      <th>primaryName</th>\n    </tr>\n  </thead>\n  <tbody>\n    <tr>\n      <th>0</th>\n      <td>nm0000001</td>\n      <td>Fred Astaire</td>\n    </tr>\n    <tr>\n      <th>1</th>\n      <td>nm0000002</td>\n      <td>Lauren Bacall</td>\n    </tr>\n    <tr>\n      <th>2</th>\n      <td>nm0000003</td>\n      <td>Brigitte Bardot</td>\n    </tr>\n    <tr>\n      <th>3</th>\n      <td>nm0000004</td>\n      <td>John Belushi</td>\n    </tr>\n    <tr>\n      <th>4</th>\n      <td>nm0000005</td>\n      <td>Ingmar Bergman</td>\n    </tr>\n  </tbody>\n</table>\n</div>"
     },
     "execution_count": 4,
     "metadata": {},
     "output_type": "execute_result"
    }
   ],
   "source": [
    "name_basics_df[['nconst', 'primaryName']].head()"
   ],
   "metadata": {
    "collapsed": false
   }
  },
  {
   "cell_type": "code",
   "execution_count": 5,
   "outputs": [
    {
     "data": {
      "text/plain": "       tconst     nconst         category\n0   tt0000001  nm1588970             self\n1   tt0000001  nm0005690         director\n2   tt0000001  nm0005690         producer\n3   tt0000001  nm0374658  cinematographer\n4   tt0000002  nm0721526         director\n5   tt0000002  nm1335271         composer\n6   tt0000003  nm0721526         director\n7   tt0000003  nm1770680         producer\n8   tt0000003  nm0721526         producer\n9   tt0000003  nm1335271         composer\n10  tt0000003  nm5442200           editor\n11  tt0000004  nm0721526         director\n12  tt0000004  nm1335271         composer\n13  tt0000005  nm0443482            actor\n14  tt0000005  nm0653042            actor\n15  tt0000005  nm0249379         producer\n16  tt0000007  nm0179163            actor\n17  tt0000007  nm0183947            actor\n18  tt0000007  nm0005690         director\n19  tt0000007  nm0374658         director\n20  tt0000007  nm0005690         producer\n21  tt0000007  nm0249379         producer\n22  tt0000007  nm0374658  cinematographer\n23  tt0000008  nm0653028            actor\n24  tt0000008  nm0005690         director\n25  tt0000008  nm0005690         producer\n26  tt0000008  nm0374658  cinematographer\n27  tt0000009  nm0063086          actress\n28  tt0000009  nm0183823            actor\n29  tt0000009  nm1309758            actor\n30  tt0000009  nm0085156         director\n31  tt0000009  nm0085156           writer\n32  tt0000009  nm0085156         producer\n33  tt0000009  nm0085156  cinematographer\n34  tt0000010  nm0525910         director\n35  tt0000010  nm0525910         producer\n36  tt0000010  nm0525910  cinematographer\n37  tt0000011  nm3692297            actor\n38  tt0000011  nm0804434         director\n39  tt0000011  nm0804434         producer\n40  tt0000011  nm0804434  cinematographer\n41  tt0000012  nm2880396             self\n42  tt0000012  nm9735580             self\n43  tt0000012  nm0525900             self\n44  tt0000012  nm9735581             self\n45  tt0000012  nm9735579             self\n46  tt0000012  nm9653419             self\n47  tt0000012  nm0525908         director\n48  tt0000012  nm0525910         director\n49  tt0000012  nm0525908         producer",
      "text/html": "<div>\n<style scoped>\n    .dataframe tbody tr th:only-of-type {\n        vertical-align: middle;\n    }\n\n    .dataframe tbody tr th {\n        vertical-align: top;\n    }\n\n    .dataframe thead th {\n        text-align: right;\n    }\n</style>\n<table border=\"1\" class=\"dataframe\">\n  <thead>\n    <tr style=\"text-align: right;\">\n      <th></th>\n      <th>tconst</th>\n      <th>nconst</th>\n      <th>category</th>\n    </tr>\n  </thead>\n  <tbody>\n    <tr>\n      <th>0</th>\n      <td>tt0000001</td>\n      <td>nm1588970</td>\n      <td>self</td>\n    </tr>\n    <tr>\n      <th>1</th>\n      <td>tt0000001</td>\n      <td>nm0005690</td>\n      <td>director</td>\n    </tr>\n    <tr>\n      <th>2</th>\n      <td>tt0000001</td>\n      <td>nm0005690</td>\n      <td>producer</td>\n    </tr>\n    <tr>\n      <th>3</th>\n      <td>tt0000001</td>\n      <td>nm0374658</td>\n      <td>cinematographer</td>\n    </tr>\n    <tr>\n      <th>4</th>\n      <td>tt0000002</td>\n      <td>nm0721526</td>\n      <td>director</td>\n    </tr>\n    <tr>\n      <th>5</th>\n      <td>tt0000002</td>\n      <td>nm1335271</td>\n      <td>composer</td>\n    </tr>\n    <tr>\n      <th>6</th>\n      <td>tt0000003</td>\n      <td>nm0721526</td>\n      <td>director</td>\n    </tr>\n    <tr>\n      <th>7</th>\n      <td>tt0000003</td>\n      <td>nm1770680</td>\n      <td>producer</td>\n    </tr>\n    <tr>\n      <th>8</th>\n      <td>tt0000003</td>\n      <td>nm0721526</td>\n      <td>producer</td>\n    </tr>\n    <tr>\n      <th>9</th>\n      <td>tt0000003</td>\n      <td>nm1335271</td>\n      <td>composer</td>\n    </tr>\n    <tr>\n      <th>10</th>\n      <td>tt0000003</td>\n      <td>nm5442200</td>\n      <td>editor</td>\n    </tr>\n    <tr>\n      <th>11</th>\n      <td>tt0000004</td>\n      <td>nm0721526</td>\n      <td>director</td>\n    </tr>\n    <tr>\n      <th>12</th>\n      <td>tt0000004</td>\n      <td>nm1335271</td>\n      <td>composer</td>\n    </tr>\n    <tr>\n      <th>13</th>\n      <td>tt0000005</td>\n      <td>nm0443482</td>\n      <td>actor</td>\n    </tr>\n    <tr>\n      <th>14</th>\n      <td>tt0000005</td>\n      <td>nm0653042</td>\n      <td>actor</td>\n    </tr>\n    <tr>\n      <th>15</th>\n      <td>tt0000005</td>\n      <td>nm0249379</td>\n      <td>producer</td>\n    </tr>\n    <tr>\n      <th>16</th>\n      <td>tt0000007</td>\n      <td>nm0179163</td>\n      <td>actor</td>\n    </tr>\n    <tr>\n      <th>17</th>\n      <td>tt0000007</td>\n      <td>nm0183947</td>\n      <td>actor</td>\n    </tr>\n    <tr>\n      <th>18</th>\n      <td>tt0000007</td>\n      <td>nm0005690</td>\n      <td>director</td>\n    </tr>\n    <tr>\n      <th>19</th>\n      <td>tt0000007</td>\n      <td>nm0374658</td>\n      <td>director</td>\n    </tr>\n    <tr>\n      <th>20</th>\n      <td>tt0000007</td>\n      <td>nm0005690</td>\n      <td>producer</td>\n    </tr>\n    <tr>\n      <th>21</th>\n      <td>tt0000007</td>\n      <td>nm0249379</td>\n      <td>producer</td>\n    </tr>\n    <tr>\n      <th>22</th>\n      <td>tt0000007</td>\n      <td>nm0374658</td>\n      <td>cinematographer</td>\n    </tr>\n    <tr>\n      <th>23</th>\n      <td>tt0000008</td>\n      <td>nm0653028</td>\n      <td>actor</td>\n    </tr>\n    <tr>\n      <th>24</th>\n      <td>tt0000008</td>\n      <td>nm0005690</td>\n      <td>director</td>\n    </tr>\n    <tr>\n      <th>25</th>\n      <td>tt0000008</td>\n      <td>nm0005690</td>\n      <td>producer</td>\n    </tr>\n    <tr>\n      <th>26</th>\n      <td>tt0000008</td>\n      <td>nm0374658</td>\n      <td>cinematographer</td>\n    </tr>\n    <tr>\n      <th>27</th>\n      <td>tt0000009</td>\n      <td>nm0063086</td>\n      <td>actress</td>\n    </tr>\n    <tr>\n      <th>28</th>\n      <td>tt0000009</td>\n      <td>nm0183823</td>\n      <td>actor</td>\n    </tr>\n    <tr>\n      <th>29</th>\n      <td>tt0000009</td>\n      <td>nm1309758</td>\n      <td>actor</td>\n    </tr>\n    <tr>\n      <th>30</th>\n      <td>tt0000009</td>\n      <td>nm0085156</td>\n      <td>director</td>\n    </tr>\n    <tr>\n      <th>31</th>\n      <td>tt0000009</td>\n      <td>nm0085156</td>\n      <td>writer</td>\n    </tr>\n    <tr>\n      <th>32</th>\n      <td>tt0000009</td>\n      <td>nm0085156</td>\n      <td>producer</td>\n    </tr>\n    <tr>\n      <th>33</th>\n      <td>tt0000009</td>\n      <td>nm0085156</td>\n      <td>cinematographer</td>\n    </tr>\n    <tr>\n      <th>34</th>\n      <td>tt0000010</td>\n      <td>nm0525910</td>\n      <td>director</td>\n    </tr>\n    <tr>\n      <th>35</th>\n      <td>tt0000010</td>\n      <td>nm0525910</td>\n      <td>producer</td>\n    </tr>\n    <tr>\n      <th>36</th>\n      <td>tt0000010</td>\n      <td>nm0525910</td>\n      <td>cinematographer</td>\n    </tr>\n    <tr>\n      <th>37</th>\n      <td>tt0000011</td>\n      <td>nm3692297</td>\n      <td>actor</td>\n    </tr>\n    <tr>\n      <th>38</th>\n      <td>tt0000011</td>\n      <td>nm0804434</td>\n      <td>director</td>\n    </tr>\n    <tr>\n      <th>39</th>\n      <td>tt0000011</td>\n      <td>nm0804434</td>\n      <td>producer</td>\n    </tr>\n    <tr>\n      <th>40</th>\n      <td>tt0000011</td>\n      <td>nm0804434</td>\n      <td>cinematographer</td>\n    </tr>\n    <tr>\n      <th>41</th>\n      <td>tt0000012</td>\n      <td>nm2880396</td>\n      <td>self</td>\n    </tr>\n    <tr>\n      <th>42</th>\n      <td>tt0000012</td>\n      <td>nm9735580</td>\n      <td>self</td>\n    </tr>\n    <tr>\n      <th>43</th>\n      <td>tt0000012</td>\n      <td>nm0525900</td>\n      <td>self</td>\n    </tr>\n    <tr>\n      <th>44</th>\n      <td>tt0000012</td>\n      <td>nm9735581</td>\n      <td>self</td>\n    </tr>\n    <tr>\n      <th>45</th>\n      <td>tt0000012</td>\n      <td>nm9735579</td>\n      <td>self</td>\n    </tr>\n    <tr>\n      <th>46</th>\n      <td>tt0000012</td>\n      <td>nm9653419</td>\n      <td>self</td>\n    </tr>\n    <tr>\n      <th>47</th>\n      <td>tt0000012</td>\n      <td>nm0525908</td>\n      <td>director</td>\n    </tr>\n    <tr>\n      <th>48</th>\n      <td>tt0000012</td>\n      <td>nm0525910</td>\n      <td>director</td>\n    </tr>\n    <tr>\n      <th>49</th>\n      <td>tt0000012</td>\n      <td>nm0525908</td>\n      <td>producer</td>\n    </tr>\n  </tbody>\n</table>\n</div>"
     },
     "execution_count": 5,
     "metadata": {},
     "output_type": "execute_result"
    }
   ],
   "source": [
    "title_principals_df[['tconst', 'nconst', 'category']].head(50)"
   ],
   "metadata": {
    "collapsed": false
   }
  },
  {
   "cell_type": "code",
   "execution_count": 16,
   "outputs": [
    {
     "name": "stdout",
     "output_type": "stream",
     "text": [
      "Total time to merge data : 42.00557494163513 seconds\n"
     ]
    },
    {
     "data": {
      "text/plain": "      tconst     nconst       primaryName\n0  tt0000005  nm0443482    Charles Kayser\n1  tt0000005  nm0653042          John Ott\n2  tt0000007  nm0179163  James J. Corbett\n3  tt0003116  nm0179163  James J. Corbett\n4  tt0003730  nm0179163  James J. Corbett\n5  tt0003730  nm0179163  James J. Corbett\n6  tt0010460  nm0179163  James J. Corbett\n7  tt0011603  nm0179163  James J. Corbett\n8  tt0012927  nm0179163  James J. Corbett\n9  tt0020949  nm0179163  James J. Corbett",
      "text/html": "<div>\n<style scoped>\n    .dataframe tbody tr th:only-of-type {\n        vertical-align: middle;\n    }\n\n    .dataframe tbody tr th {\n        vertical-align: top;\n    }\n\n    .dataframe thead th {\n        text-align: right;\n    }\n</style>\n<table border=\"1\" class=\"dataframe\">\n  <thead>\n    <tr style=\"text-align: right;\">\n      <th></th>\n      <th>tconst</th>\n      <th>nconst</th>\n      <th>primaryName</th>\n    </tr>\n  </thead>\n  <tbody>\n    <tr>\n      <th>0</th>\n      <td>tt0000005</td>\n      <td>nm0443482</td>\n      <td>Charles Kayser</td>\n    </tr>\n    <tr>\n      <th>1</th>\n      <td>tt0000005</td>\n      <td>nm0653042</td>\n      <td>John Ott</td>\n    </tr>\n    <tr>\n      <th>2</th>\n      <td>tt0000007</td>\n      <td>nm0179163</td>\n      <td>James J. Corbett</td>\n    </tr>\n    <tr>\n      <th>3</th>\n      <td>tt0003116</td>\n      <td>nm0179163</td>\n      <td>James J. Corbett</td>\n    </tr>\n    <tr>\n      <th>4</th>\n      <td>tt0003730</td>\n      <td>nm0179163</td>\n      <td>James J. Corbett</td>\n    </tr>\n    <tr>\n      <th>5</th>\n      <td>tt0003730</td>\n      <td>nm0179163</td>\n      <td>James J. Corbett</td>\n    </tr>\n    <tr>\n      <th>6</th>\n      <td>tt0010460</td>\n      <td>nm0179163</td>\n      <td>James J. Corbett</td>\n    </tr>\n    <tr>\n      <th>7</th>\n      <td>tt0011603</td>\n      <td>nm0179163</td>\n      <td>James J. Corbett</td>\n    </tr>\n    <tr>\n      <th>8</th>\n      <td>tt0012927</td>\n      <td>nm0179163</td>\n      <td>James J. Corbett</td>\n    </tr>\n    <tr>\n      <th>9</th>\n      <td>tt0020949</td>\n      <td>nm0179163</td>\n      <td>James J. Corbett</td>\n    </tr>\n  </tbody>\n</table>\n</div>"
     },
     "execution_count": 16,
     "metadata": {},
     "output_type": "execute_result"
    }
   ],
   "source": [
    "# Start the timer\n",
    "start_time = time.time()\n",
    "\n",
    "actors_only_df = title_principals_df[title_principals_df['category'].isin(['actor', 'actress'])][['tconst', 'nconst']]\n",
    "challenge_A_df = pd.merge(actors_only_df, name_basics_df[['nconst', 'primaryName']], on='nconst')\n",
    "\n",
    "\n",
    "# End the timer\n",
    "end_time = time.time()\n",
    "# Calculate and print the total time taken\n",
    "total_time = end_time - start_time\n",
    "print(f\"Total time to merge data : {total_time} seconds\")\n",
    "\n",
    "challenge_A_df.head(10)"
   ],
   "metadata": {
    "collapsed": false
   }
  },
  {
   "cell_type": "code",
   "execution_count": 5,
   "outputs": [],
   "source": [
    "# To test later with only that dataframe\n",
    "# challenge_A_df.to_csv('ChallA.csv', index=False)"
   ],
   "metadata": {
    "collapsed": false
   }
  },
  {
   "cell_type": "code",
   "execution_count": null,
   "outputs": [],
   "source": [
    "# Need to sort the DF by movie so that we can try the Bacon Number with just a sample of the DF without having only movie with one actor\n",
    "# NOT USEFUL IF WE USE THE FULL DATA\n",
    "# sorted_df = challenge_A_df.sort_values(by='tconst')\n",
    "# challenge_A_df = sorted_df.iloc[10000000:11000000]\n",
    "# challenge_A_df"
   ],
   "metadata": {
    "collapsed": false,
    "pycharm": {
     "is_executing": true
    }
   }
  },
  {
   "cell_type": "code",
   "execution_count": 17,
   "outputs": [
    {
     "data": {
      "text/plain": "'nm0000102'"
     },
     "execution_count": 17,
     "metadata": {},
     "output_type": "execute_result"
    }
   ],
   "source": [
    "#Identify Kevin Bacon's nconst or another name\n",
    "kevin_bacon_nconst = name_basics_df[name_basics_df['primaryName'] == 'Kevin Bacon']['nconst'].iloc[0]\n",
    "kevin_bacon_nconst"
   ],
   "metadata": {
    "collapsed": false
   }
  },
  {
   "cell_type": "code",
   "execution_count": 42,
   "outputs": [
    {
     "data": {
      "text/plain": "              nconst  primaryName birthYear deathYear  \\\n101        nm0000102  Kevin Bacon      1958        \\N   \n1116648   nm10210267  Kevin Bacon        \\N        \\N   \n2339911   nm11500328  Kevin Bacon        \\N        \\N   \n3395206   nm12606581  Kevin Bacon        \\N        \\N   \n4539805   nm13843189  Kevin Bacon        \\N        \\N   \n8216275    nm3636162  Kevin Bacon        \\N        \\N   \n8563563    nm4025714  Kevin Bacon        \\N        \\N   \n12816242   nm9323132  Kevin Bacon        \\N        \\N   \n13206272   nm9792572  Kevin Bacon        \\N        \\N   \n\n                                primaryProfession  \\\n101                       actor,producer,director   \n1116648                                        \\N   \n2339911                          sound_department   \n3395206                          sound_department   \n4539805                          sound_department   \n8216275   camera_department,actor,cinematographer   \n8563563          sound_department,director,writer   \n12816242                         actor,soundtrack   \n13206272                         sound_department   \n\n                                      knownForTitles  \n101          tt0087277,tt0164052,tt0361127,tt0327056  \n1116648                                    tt1554356  \n2339911                          tt0206501,tt9187244  \n3395206                                   tt10810428  \n4539805                                   tt18554124  \n8216275      tt1954811,tt4875654,tt2063666,tt2186712  \n8563563      tt1737781,tt3067274,tt0098193,tt8429394  \n12816242               tt5112578,tt7470112,tt0259795  \n13206272  tt28358231,tt28485954,tt11506404,tt8183128  ",
      "text/html": "<div>\n<style scoped>\n    .dataframe tbody tr th:only-of-type {\n        vertical-align: middle;\n    }\n\n    .dataframe tbody tr th {\n        vertical-align: top;\n    }\n\n    .dataframe thead th {\n        text-align: right;\n    }\n</style>\n<table border=\"1\" class=\"dataframe\">\n  <thead>\n    <tr style=\"text-align: right;\">\n      <th></th>\n      <th>nconst</th>\n      <th>primaryName</th>\n      <th>birthYear</th>\n      <th>deathYear</th>\n      <th>primaryProfession</th>\n      <th>knownForTitles</th>\n    </tr>\n  </thead>\n  <tbody>\n    <tr>\n      <th>101</th>\n      <td>nm0000102</td>\n      <td>Kevin Bacon</td>\n      <td>1958</td>\n      <td>\\N</td>\n      <td>actor,producer,director</td>\n      <td>tt0087277,tt0164052,tt0361127,tt0327056</td>\n    </tr>\n    <tr>\n      <th>1116648</th>\n      <td>nm10210267</td>\n      <td>Kevin Bacon</td>\n      <td>\\N</td>\n      <td>\\N</td>\n      <td>\\N</td>\n      <td>tt1554356</td>\n    </tr>\n    <tr>\n      <th>2339911</th>\n      <td>nm11500328</td>\n      <td>Kevin Bacon</td>\n      <td>\\N</td>\n      <td>\\N</td>\n      <td>sound_department</td>\n      <td>tt0206501,tt9187244</td>\n    </tr>\n    <tr>\n      <th>3395206</th>\n      <td>nm12606581</td>\n      <td>Kevin Bacon</td>\n      <td>\\N</td>\n      <td>\\N</td>\n      <td>sound_department</td>\n      <td>tt10810428</td>\n    </tr>\n    <tr>\n      <th>4539805</th>\n      <td>nm13843189</td>\n      <td>Kevin Bacon</td>\n      <td>\\N</td>\n      <td>\\N</td>\n      <td>sound_department</td>\n      <td>tt18554124</td>\n    </tr>\n    <tr>\n      <th>8216275</th>\n      <td>nm3636162</td>\n      <td>Kevin Bacon</td>\n      <td>\\N</td>\n      <td>\\N</td>\n      <td>camera_department,actor,cinematographer</td>\n      <td>tt1954811,tt4875654,tt2063666,tt2186712</td>\n    </tr>\n    <tr>\n      <th>8563563</th>\n      <td>nm4025714</td>\n      <td>Kevin Bacon</td>\n      <td>\\N</td>\n      <td>\\N</td>\n      <td>sound_department,director,writer</td>\n      <td>tt1737781,tt3067274,tt0098193,tt8429394</td>\n    </tr>\n    <tr>\n      <th>12816242</th>\n      <td>nm9323132</td>\n      <td>Kevin Bacon</td>\n      <td>\\N</td>\n      <td>\\N</td>\n      <td>actor,soundtrack</td>\n      <td>tt5112578,tt7470112,tt0259795</td>\n    </tr>\n    <tr>\n      <th>13206272</th>\n      <td>nm9792572</td>\n      <td>Kevin Bacon</td>\n      <td>\\N</td>\n      <td>\\N</td>\n      <td>sound_department</td>\n      <td>tt28358231,tt28485954,tt11506404,tt8183128</td>\n    </tr>\n  </tbody>\n</table>\n</div>"
     },
     "execution_count": 42,
     "metadata": {},
     "output_type": "execute_result"
    }
   ],
   "source": [
    "# Possible problem later => multiple Kevin Bacon in the database\n",
    "name_basics_df[name_basics_df['primaryName'] == 'Kevin Bacon']"
   ],
   "metadata": {
    "collapsed": false
   }
  },
  {
   "cell_type": "code",
   "execution_count": 18,
   "outputs": [
    {
     "name": "stdout",
     "output_type": "stream",
     "text": [
      "Total time taken to compute the Bacon Numbers: 1183.2064416408539 seconds\n"
     ]
    }
   ],
   "source": [
    "# Start the timer\n",
    "start_time = time.time()\n",
    "\n",
    "# Initialize the Bacon Numbers DataFrame\n",
    "bacon_numbers = pd.DataFrame({'nconst': [kevin_bacon_nconst], 'BaconNumber': [0]})\n",
    "processed_movies = set()\n",
    "\n",
    "# While loop until no new movies can be processed\n",
    "while True:\n",
    "    # Select movies not yet processed that have actors with known Bacon Numbers\n",
    "    new_movies = challenge_A_df[challenge_A_df['tconst'].isin(challenge_A_df.loc[challenge_A_df['nconst'].isin(bacon_numbers['nconst']), 'tconst']) & ~challenge_A_df['tconst'].isin(processed_movies)]\n",
    "    processed_movies.update(new_movies['tconst'].unique())\n",
    "\n",
    "    # If no new movies to process, break\n",
    "    if new_movies.empty:\n",
    "        break\n",
    "\n",
    "    # Get all actors from these new movies\n",
    "    new_actors = challenge_A_df[challenge_A_df['tconst'].isin(new_movies['tconst'])]\n",
    "\n",
    "    # Proceed only if there are truly new actors\n",
    "    if not new_actors.empty:\n",
    "        new_bacons = new_actors.merge(bacon_numbers, on='nconst', how='left')\n",
    "        new_bacons['BaconNumber'] = new_bacons.groupby('tconst')['BaconNumber'].transform(lambda x: x.min() + 1)\n",
    "\n",
    "        # Update the Bacon Numbers DataFrame\n",
    "        bacon_numbers = pd.concat([bacon_numbers, new_bacons[['nconst', 'BaconNumber']].drop_duplicates()], ignore_index=True)\n",
    "\n",
    "        # Ensure that each actor has only the lowest Bacon Number\n",
    "        bacon_numbers = bacon_numbers.groupby('nconst').agg({'BaconNumber': 'min'}).reset_index()\n",
    "\n",
    "# End the timer\n",
    "end_time = time.time()\n",
    "\n",
    "# Calculate and print the total time taken\n",
    "total_time = end_time - start_time\n",
    "print(f\"Total time taken to compute the Bacon Numbers: {total_time} seconds\")"
   ],
   "metadata": {
    "collapsed": false
   }
  },
  {
   "cell_type": "markdown",
   "source": [
    "For A Martinez :\n",
    "0.1 millions rows : 0.4sec\n",
    "1 millions rows : 22sec\n",
    "2 millions rows : 50sec\n",
    "5 millions rows : 129sec\n",
    "full 35 millions rows : 919sec => +-15min\n",
    "\n",
    "\n",
    "For Kevin Bacon :\n",
    "full dataset : 1201sec => +-20min"
   ],
   "metadata": {
    "collapsed": false
   }
  },
  {
   "cell_type": "code",
   "execution_count": 6,
   "outputs": [
    {
     "data": {
      "text/plain": "             nconst  BaconNumber\n91        nm0000102          0.0\n600       nm0000622          1.0\n1901915   nm4456120          1.0\n3461      nm0005213          1.0\n289187    nm0783033          1.0\n...             ...          ...\n2099564   nm5476488         11.0\n1001928  nm13801027         11.0\n1211922  nm15338150         12.0\n641763   nm11549950         12.0\n641762   nm11549949         12.0\n\n[2871339 rows x 2 columns]",
      "text/html": "<div>\n<style scoped>\n    .dataframe tbody tr th:only-of-type {\n        vertical-align: middle;\n    }\n\n    .dataframe tbody tr th {\n        vertical-align: top;\n    }\n\n    .dataframe thead th {\n        text-align: right;\n    }\n</style>\n<table border=\"1\" class=\"dataframe\">\n  <thead>\n    <tr style=\"text-align: right;\">\n      <th></th>\n      <th>nconst</th>\n      <th>BaconNumber</th>\n    </tr>\n  </thead>\n  <tbody>\n    <tr>\n      <th>91</th>\n      <td>nm0000102</td>\n      <td>0.0</td>\n    </tr>\n    <tr>\n      <th>600</th>\n      <td>nm0000622</td>\n      <td>1.0</td>\n    </tr>\n    <tr>\n      <th>1901915</th>\n      <td>nm4456120</td>\n      <td>1.0</td>\n    </tr>\n    <tr>\n      <th>3461</th>\n      <td>nm0005213</td>\n      <td>1.0</td>\n    </tr>\n    <tr>\n      <th>289187</th>\n      <td>nm0783033</td>\n      <td>1.0</td>\n    </tr>\n    <tr>\n      <th>...</th>\n      <td>...</td>\n      <td>...</td>\n    </tr>\n    <tr>\n      <th>2099564</th>\n      <td>nm5476488</td>\n      <td>11.0</td>\n    </tr>\n    <tr>\n      <th>1001928</th>\n      <td>nm13801027</td>\n      <td>11.0</td>\n    </tr>\n    <tr>\n      <th>1211922</th>\n      <td>nm15338150</td>\n      <td>12.0</td>\n    </tr>\n    <tr>\n      <th>641763</th>\n      <td>nm11549950</td>\n      <td>12.0</td>\n    </tr>\n    <tr>\n      <th>641762</th>\n      <td>nm11549949</td>\n      <td>12.0</td>\n    </tr>\n  </tbody>\n</table>\n<p>2871339 rows × 2 columns</p>\n</div>"
     },
     "execution_count": 6,
     "metadata": {},
     "output_type": "execute_result"
    }
   ],
   "source": [
    "# Sort the Bacon Numbers DataFrame by the Bacon Number\n",
    "bacon_numbers = bacon_numbers.sort_values(by='BaconNumber')\n",
    "bacon_numbers"
   ],
   "metadata": {
    "collapsed": false
   }
  },
  {
   "cell_type": "markdown",
   "source": [
    "# Challenge B\n",
    "For challenge B (Degrees of separation between actors), we need :\n",
    "From title.principals.tsv we need tconst, nconst for only actor/actress\n",
    "From title.ratings.tsv we need tconst and averageRating"
   ],
   "metadata": {
    "collapsed": false
   }
  },
  {
   "cell_type": "code",
   "execution_count": 11,
   "outputs": [
    {
     "name": "stdout",
     "output_type": "stream",
     "text": [
      "Total time to load data : 82.9723207950592 seconds\n"
     ]
    }
   ],
   "source": [
    "# Start the timer\n",
    "start_time = time.time()\n",
    "\n",
    "title_principals_df = pd.read_csv(f\"{base_path}title.principals.tsv\", sep='\\t')\n",
    "title_ratings_df = pd.read_csv(f\"{base_path}title.ratings.tsv\", sep='\\t')\n",
    "\n",
    "# End the timer\n",
    "end_time = time.time()\n",
    "# Calculate and print the total time taken\n",
    "total_time = end_time - start_time\n",
    "print(f\"Total time to load data : {total_time} seconds\")"
   ],
   "metadata": {
    "collapsed": false
   }
  },
  {
   "cell_type": "code",
   "execution_count": 12,
   "outputs": [
    {
     "name": "stdout",
     "output_type": "stream",
     "text": [
      "Total time to merge data : 14.546685218811035 seconds\n"
     ]
    },
    {
     "data": {
      "text/plain": "       tconst     nconst  averageRating\n0   tt0000005  nm0443482            6.2\n1   tt0000005  nm0653042            6.2\n2   tt0000007  nm0179163            5.4\n3   tt0000007  nm0183947            5.4\n4   tt0000008  nm0653028            5.4\n5   tt0000009  nm0063086            5.3\n6   tt0000009  nm0183823            5.3\n7   tt0000009  nm1309758            5.3\n8   tt0000011  nm3692297            5.2\n9   tt0000014  nm0166380            7.1\n10  tt0000014  nm0244989            7.1\n11  tt0000017  nm3691272            4.6\n12  tt0000017  nm3692829            4.6\n13  tt0000018  nm3692071            5.2\n14  tt0000026  nm2350007            5.6\n15  tt0000026  nm0525907            5.6\n16  tt0000026  nm1151424            5.6\n17  tt0000026  nm2354154            5.6\n18  tt0000032  nm3692479            5.0\n19  tt0000036  nm0420198            4.4",
      "text/html": "<div>\n<style scoped>\n    .dataframe tbody tr th:only-of-type {\n        vertical-align: middle;\n    }\n\n    .dataframe tbody tr th {\n        vertical-align: top;\n    }\n\n    .dataframe thead th {\n        text-align: right;\n    }\n</style>\n<table border=\"1\" class=\"dataframe\">\n  <thead>\n    <tr style=\"text-align: right;\">\n      <th></th>\n      <th>tconst</th>\n      <th>nconst</th>\n      <th>averageRating</th>\n    </tr>\n  </thead>\n  <tbody>\n    <tr>\n      <th>0</th>\n      <td>tt0000005</td>\n      <td>nm0443482</td>\n      <td>6.2</td>\n    </tr>\n    <tr>\n      <th>1</th>\n      <td>tt0000005</td>\n      <td>nm0653042</td>\n      <td>6.2</td>\n    </tr>\n    <tr>\n      <th>2</th>\n      <td>tt0000007</td>\n      <td>nm0179163</td>\n      <td>5.4</td>\n    </tr>\n    <tr>\n      <th>3</th>\n      <td>tt0000007</td>\n      <td>nm0183947</td>\n      <td>5.4</td>\n    </tr>\n    <tr>\n      <th>4</th>\n      <td>tt0000008</td>\n      <td>nm0653028</td>\n      <td>5.4</td>\n    </tr>\n    <tr>\n      <th>5</th>\n      <td>tt0000009</td>\n      <td>nm0063086</td>\n      <td>5.3</td>\n    </tr>\n    <tr>\n      <th>6</th>\n      <td>tt0000009</td>\n      <td>nm0183823</td>\n      <td>5.3</td>\n    </tr>\n    <tr>\n      <th>7</th>\n      <td>tt0000009</td>\n      <td>nm1309758</td>\n      <td>5.3</td>\n    </tr>\n    <tr>\n      <th>8</th>\n      <td>tt0000011</td>\n      <td>nm3692297</td>\n      <td>5.2</td>\n    </tr>\n    <tr>\n      <th>9</th>\n      <td>tt0000014</td>\n      <td>nm0166380</td>\n      <td>7.1</td>\n    </tr>\n    <tr>\n      <th>10</th>\n      <td>tt0000014</td>\n      <td>nm0244989</td>\n      <td>7.1</td>\n    </tr>\n    <tr>\n      <th>11</th>\n      <td>tt0000017</td>\n      <td>nm3691272</td>\n      <td>4.6</td>\n    </tr>\n    <tr>\n      <th>12</th>\n      <td>tt0000017</td>\n      <td>nm3692829</td>\n      <td>4.6</td>\n    </tr>\n    <tr>\n      <th>13</th>\n      <td>tt0000018</td>\n      <td>nm3692071</td>\n      <td>5.2</td>\n    </tr>\n    <tr>\n      <th>14</th>\n      <td>tt0000026</td>\n      <td>nm2350007</td>\n      <td>5.6</td>\n    </tr>\n    <tr>\n      <th>15</th>\n      <td>tt0000026</td>\n      <td>nm0525907</td>\n      <td>5.6</td>\n    </tr>\n    <tr>\n      <th>16</th>\n      <td>tt0000026</td>\n      <td>nm1151424</td>\n      <td>5.6</td>\n    </tr>\n    <tr>\n      <th>17</th>\n      <td>tt0000026</td>\n      <td>nm2354154</td>\n      <td>5.6</td>\n    </tr>\n    <tr>\n      <th>18</th>\n      <td>tt0000032</td>\n      <td>nm3692479</td>\n      <td>5.0</td>\n    </tr>\n    <tr>\n      <th>19</th>\n      <td>tt0000036</td>\n      <td>nm0420198</td>\n      <td>4.4</td>\n    </tr>\n  </tbody>\n</table>\n</div>"
     },
     "execution_count": 12,
     "metadata": {},
     "output_type": "execute_result"
    }
   ],
   "source": [
    "# Start the timer\n",
    "start_time = time.time()\n",
    "actors_only_df = title_principals_df[title_principals_df['category'].isin(['actor', 'actress'])][['tconst', 'nconst']]\n",
    "challenge_B_df = pd.merge(actors_only_df, title_ratings_df[['tconst', 'averageRating']], on='tconst')\n",
    "\n",
    "# End the timer\n",
    "end_time = time.time()\n",
    "# Calculate and print the total time taken\n",
    "total_time = end_time - start_time\n",
    "print(f\"Total time to merge data : {total_time} seconds\")\n",
    "\n",
    "challenge_B_df.head(20)"
   ],
   "metadata": {
    "collapsed": false
   }
  },
  {
   "cell_type": "code",
   "execution_count": 13,
   "outputs": [
    {
     "name": "stdout",
     "output_type": "stream",
     "text": [
      "Total time to grouby the data: 5.2402184009552 seconds\n"
     ]
    },
    {
     "data": {
      "text/plain": "       nconst  averageRating\n0   nm0000001       6.867692\n1   nm0000002       6.748000\n2   nm0000003       5.864103\n3   nm0000004       7.075124\n4   nm0000005       7.471429\n5   nm0000006       6.612963\n6   nm0000007       6.766667\n7   nm0000008       7.106897\n8   nm0000009       7.499153\n9   nm0000010       6.734783\n10  nm0000011       6.462857\n11  nm0000012       7.161765\n12  nm0000013       6.686782\n13  nm0000014       6.593750\n14  nm0000015       7.260714\n15  nm0000016       7.200000\n16  nm0000017       6.573469\n17  nm0000018       6.612245\n18  nm0000019       6.775000\n19  nm0000020       7.097297\n20  nm0000021       6.933784\n21  nm0000022       6.521053\n22  nm0000023       6.840000\n23  nm0000024       7.025828\n24  nm0000026       6.741026\n25  nm0000027       7.374118\n26  nm0000028       6.204918\n27  nm0000029       4.805882\n28  nm0000030       6.605882\n29  nm0000031       6.681132\n30  nm0000032       6.713978\n31  nm0000033       7.600000\n32  nm0000034       6.667123\n33  nm0000036       6.511429\n34  nm0000037       6.549123\n35  nm0000038       6.437037\n36  nm0000039       6.777193\n37  nm0000042       6.373437\n38  nm0000043       6.208333\n39  nm0000044       6.893814\n40  nm0000045       7.300000\n41  nm0000046       6.761111\n42  nm0000047       6.193103\n43  nm0000048       6.753333\n44  nm0000049       5.500000\n45  nm0000050       6.862963\n46  nm0000051       6.746875\n47  nm0000052       6.533577\n48  nm0000053       6.557042\n49  nm0000054       6.760000",
      "text/html": "<div>\n<style scoped>\n    .dataframe tbody tr th:only-of-type {\n        vertical-align: middle;\n    }\n\n    .dataframe tbody tr th {\n        vertical-align: top;\n    }\n\n    .dataframe thead th {\n        text-align: right;\n    }\n</style>\n<table border=\"1\" class=\"dataframe\">\n  <thead>\n    <tr style=\"text-align: right;\">\n      <th></th>\n      <th>nconst</th>\n      <th>averageRating</th>\n    </tr>\n  </thead>\n  <tbody>\n    <tr>\n      <th>0</th>\n      <td>nm0000001</td>\n      <td>6.867692</td>\n    </tr>\n    <tr>\n      <th>1</th>\n      <td>nm0000002</td>\n      <td>6.748000</td>\n    </tr>\n    <tr>\n      <th>2</th>\n      <td>nm0000003</td>\n      <td>5.864103</td>\n    </tr>\n    <tr>\n      <th>3</th>\n      <td>nm0000004</td>\n      <td>7.075124</td>\n    </tr>\n    <tr>\n      <th>4</th>\n      <td>nm0000005</td>\n      <td>7.471429</td>\n    </tr>\n    <tr>\n      <th>5</th>\n      <td>nm0000006</td>\n      <td>6.612963</td>\n    </tr>\n    <tr>\n      <th>6</th>\n      <td>nm0000007</td>\n      <td>6.766667</td>\n    </tr>\n    <tr>\n      <th>7</th>\n      <td>nm0000008</td>\n      <td>7.106897</td>\n    </tr>\n    <tr>\n      <th>8</th>\n      <td>nm0000009</td>\n      <td>7.499153</td>\n    </tr>\n    <tr>\n      <th>9</th>\n      <td>nm0000010</td>\n      <td>6.734783</td>\n    </tr>\n    <tr>\n      <th>10</th>\n      <td>nm0000011</td>\n      <td>6.462857</td>\n    </tr>\n    <tr>\n      <th>11</th>\n      <td>nm0000012</td>\n      <td>7.161765</td>\n    </tr>\n    <tr>\n      <th>12</th>\n      <td>nm0000013</td>\n      <td>6.686782</td>\n    </tr>\n    <tr>\n      <th>13</th>\n      <td>nm0000014</td>\n      <td>6.593750</td>\n    </tr>\n    <tr>\n      <th>14</th>\n      <td>nm0000015</td>\n      <td>7.260714</td>\n    </tr>\n    <tr>\n      <th>15</th>\n      <td>nm0000016</td>\n      <td>7.200000</td>\n    </tr>\n    <tr>\n      <th>16</th>\n      <td>nm0000017</td>\n      <td>6.573469</td>\n    </tr>\n    <tr>\n      <th>17</th>\n      <td>nm0000018</td>\n      <td>6.612245</td>\n    </tr>\n    <tr>\n      <th>18</th>\n      <td>nm0000019</td>\n      <td>6.775000</td>\n    </tr>\n    <tr>\n      <th>19</th>\n      <td>nm0000020</td>\n      <td>7.097297</td>\n    </tr>\n    <tr>\n      <th>20</th>\n      <td>nm0000021</td>\n      <td>6.933784</td>\n    </tr>\n    <tr>\n      <th>21</th>\n      <td>nm0000022</td>\n      <td>6.521053</td>\n    </tr>\n    <tr>\n      <th>22</th>\n      <td>nm0000023</td>\n      <td>6.840000</td>\n    </tr>\n    <tr>\n      <th>23</th>\n      <td>nm0000024</td>\n      <td>7.025828</td>\n    </tr>\n    <tr>\n      <th>24</th>\n      <td>nm0000026</td>\n      <td>6.741026</td>\n    </tr>\n    <tr>\n      <th>25</th>\n      <td>nm0000027</td>\n      <td>7.374118</td>\n    </tr>\n    <tr>\n      <th>26</th>\n      <td>nm0000028</td>\n      <td>6.204918</td>\n    </tr>\n    <tr>\n      <th>27</th>\n      <td>nm0000029</td>\n      <td>4.805882</td>\n    </tr>\n    <tr>\n      <th>28</th>\n      <td>nm0000030</td>\n      <td>6.605882</td>\n    </tr>\n    <tr>\n      <th>29</th>\n      <td>nm0000031</td>\n      <td>6.681132</td>\n    </tr>\n    <tr>\n      <th>30</th>\n      <td>nm0000032</td>\n      <td>6.713978</td>\n    </tr>\n    <tr>\n      <th>31</th>\n      <td>nm0000033</td>\n      <td>7.600000</td>\n    </tr>\n    <tr>\n      <th>32</th>\n      <td>nm0000034</td>\n      <td>6.667123</td>\n    </tr>\n    <tr>\n      <th>33</th>\n      <td>nm0000036</td>\n      <td>6.511429</td>\n    </tr>\n    <tr>\n      <th>34</th>\n      <td>nm0000037</td>\n      <td>6.549123</td>\n    </tr>\n    <tr>\n      <th>35</th>\n      <td>nm0000038</td>\n      <td>6.437037</td>\n    </tr>\n    <tr>\n      <th>36</th>\n      <td>nm0000039</td>\n      <td>6.777193</td>\n    </tr>\n    <tr>\n      <th>37</th>\n      <td>nm0000042</td>\n      <td>6.373437</td>\n    </tr>\n    <tr>\n      <th>38</th>\n      <td>nm0000043</td>\n      <td>6.208333</td>\n    </tr>\n    <tr>\n      <th>39</th>\n      <td>nm0000044</td>\n      <td>6.893814</td>\n    </tr>\n    <tr>\n      <th>40</th>\n      <td>nm0000045</td>\n      <td>7.300000</td>\n    </tr>\n    <tr>\n      <th>41</th>\n      <td>nm0000046</td>\n      <td>6.761111</td>\n    </tr>\n    <tr>\n      <th>42</th>\n      <td>nm0000047</td>\n      <td>6.193103</td>\n    </tr>\n    <tr>\n      <th>43</th>\n      <td>nm0000048</td>\n      <td>6.753333</td>\n    </tr>\n    <tr>\n      <th>44</th>\n      <td>nm0000049</td>\n      <td>5.500000</td>\n    </tr>\n    <tr>\n      <th>45</th>\n      <td>nm0000050</td>\n      <td>6.862963</td>\n    </tr>\n    <tr>\n      <th>46</th>\n      <td>nm0000051</td>\n      <td>6.746875</td>\n    </tr>\n    <tr>\n      <th>47</th>\n      <td>nm0000052</td>\n      <td>6.533577</td>\n    </tr>\n    <tr>\n      <th>48</th>\n      <td>nm0000053</td>\n      <td>6.557042</td>\n    </tr>\n    <tr>\n      <th>49</th>\n      <td>nm0000054</td>\n      <td>6.760000</td>\n    </tr>\n  </tbody>\n</table>\n</div>"
     },
     "execution_count": 13,
     "metadata": {},
     "output_type": "execute_result"
    }
   ],
   "source": [
    "# Start the timer\n",
    "start_time = time.time()\n",
    "\n",
    "average_ratings = challenge_B_df.groupby('nconst')['averageRating'].mean().reset_index()\n",
    "\n",
    "# End the timer\n",
    "end_time = time.time()\n",
    "# Calculate and print the total time taken\n",
    "total_time = end_time - start_time\n",
    "print(f\"Total time to grouby the data: {total_time} seconds\")\n",
    "\n",
    "average_ratings.head(50)"
   ],
   "metadata": {
    "collapsed": false
   }
  },
  {
   "cell_type": "code",
   "execution_count": 9,
   "outputs": [
    {
     "data": {
      "text/plain": "          nconst  averageRating\n63711  nm0183823       5.933333",
      "text/html": "<div>\n<style scoped>\n    .dataframe tbody tr th:only-of-type {\n        vertical-align: middle;\n    }\n\n    .dataframe tbody tr th {\n        vertical-align: top;\n    }\n\n    .dataframe thead th {\n        text-align: right;\n    }\n</style>\n<table border=\"1\" class=\"dataframe\">\n  <thead>\n    <tr style=\"text-align: right;\">\n      <th></th>\n      <th>nconst</th>\n      <th>averageRating</th>\n    </tr>\n  </thead>\n  <tbody>\n    <tr>\n      <th>63711</th>\n      <td>nm0183823</td>\n      <td>5.933333</td>\n    </tr>\n  </tbody>\n</table>\n</div>"
     },
     "execution_count": 9,
     "metadata": {},
     "output_type": "execute_result"
    }
   ],
   "source": [
    "average_ratings[average_ratings['nconst']=='nm0183823']"
   ],
   "metadata": {
    "collapsed": false
   }
  }
 ],
 "metadata": {
  "kernelspec": {
   "display_name": "Python 3",
   "language": "python",
   "name": "python3"
  },
  "language_info": {
   "codemirror_mode": {
    "name": "ipython",
    "version": 2
   },
   "file_extension": ".py",
   "mimetype": "text/x-python",
   "name": "python",
   "nbconvert_exporter": "python",
   "pygments_lexer": "ipython2",
   "version": "2.7.6"
  }
 },
 "nbformat": 4,
 "nbformat_minor": 0
}
